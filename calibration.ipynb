{
 "cells": [
  {
   "cell_type": "markdown",
   "metadata": {},
   "source": [
    "# Magnitude scale calibration"
   ]
  },
  {
   "cell_type": "code",
   "execution_count": null,
   "metadata": {},
   "outputs": [],
   "source": [
    "import pandas as pd\n",
    "import numpy as np\n",
    "import calibration\n",
    "import pickle\n",
    "import matplotlib.pyplot as plt"
   ]
  },
  {
   "cell_type": "markdown",
   "metadata": {},
   "source": [
    "## Load the feature matrix\n",
    "Required columns in the feature matrix are:\n",
    "- the feature to generate the magnitude from\n",
    "- distance (DIST) and depth (DEPTH) in km\n",
    "- latitude (LAT) and longitude (LON)\n",
    "- reference magnitude (M_EXT)\n",
    "- station (STATION)\n",
    "- a unique event identifier (EVENT)"
   ]
  },
  {
   "cell_type": "code",
   "execution_count": null,
   "metadata": {},
   "outputs": [],
   "source": [
    "features = pd.read_csv('IPOC_features.csv')"
   ]
  },
  {
   "cell_type": "markdown",
   "metadata": {},
   "source": [
    "## Train-Dev-Test split"
   ]
  },
  {
   "cell_type": "code",
   "execution_count": null,
   "metadata": {},
   "outputs": [],
   "source": [
    "features_train = features[features['SPLIT'] == 'TRAIN']\n",
    "features_dev = features[features['SPLIT'] == 'DEV']\n",
    "features_test = features[features['SPLIT'] == 'TEST']"
   ]
  },
  {
   "cell_type": "markdown",
   "metadata": {},
   "source": [
    "## Calibrate a model from data\n",
    "*Warning:* This step has a runtime of multiple hour and requires >150 GB of memory. Disable the knn correction for significantly lower runtime and memory consumption. Be aware that this changes the function's signature and return values."
   ]
  },
  {
   "cell_type": "code",
   "execution_count": null,
   "metadata": {},
   "outputs": [],
   "source": [
    "metric = 'DISP_NE'   # Name of the column with the feature\n",
    "x_ref = (np.linspace(0, 500, 50),   # Distance spacing\n",
    "         np.linspace(0, 200, 20))   # Depth spacing\n",
    "\n",
    "s, g, nn = calibration.estimate_attenuation_correction(data=features_train,\n",
    "                                                       metric=metric,\n",
    "                                                       x_ref=x_ref,\n",
    "                                                       knn_correction=True)"
   ]
  },
  {
   "cell_type": "markdown",
   "metadata": {},
   "source": [
    "## Alternative: Load a precalibrated model"
   ]
  },
  {
   "cell_type": "code",
   "execution_count": null,
   "metadata": {},
   "outputs": [],
   "source": [
    "s, g, nn, x_ref = pickle.load(open(f'models/{metric}.pkl', 'rb'))"
   ]
  },
  {
   "cell_type": "markdown",
   "metadata": {},
   "source": [
    "## Determine magnitude values\n",
    "Writes single station magnitude estimates into the column PRED_{metric}"
   ]
  },
  {
   "cell_type": "code",
   "execution_count": null,
   "metadata": {},
   "outputs": [],
   "source": [
    "calibration.add_prediction(data=features,\n",
    "                           metric=metric,\n",
    "                           s=s, g=g, nn=nn, x_ref=x_ref)"
   ]
  },
  {
   "cell_type": "markdown",
   "metadata": {},
   "source": [
    "## Calculate event means and residuals\n",
    "Writes event means and station residuals into the columns MEAN_PRED_{metric} and RESIDUAL_PRED_{metric}"
   ]
  },
  {
   "cell_type": "code",
   "execution_count": null,
   "metadata": {},
   "outputs": [],
   "source": [
    "calibration.calc_means(data=features,\n",
    "                       metric=metric)"
   ]
  },
  {
   "cell_type": "markdown",
   "metadata": {},
   "source": [
    "## Analyse RMSE"
   ]
  },
  {
   "cell_type": "code",
   "execution_count": null,
   "metadata": {
    "scrolled": true
   },
   "outputs": [],
   "source": [
    "rmse_train = np.sqrt(np.nanmean(features_train[f'RESIDUAL_PRED_{metric}']**2))\n",
    "rmse_dev = np.sqrt(np.nanmean(features_dev[f'RESIDUAL_PRED_{metric}']**2))\n",
    "rmse_test = np.sqrt(np.nanmean(features_test[f'RESIDUAL_PRED_{metric}']**2))\n",
    "\n",
    "print(f'RMSE train: {rmse_train:.3f}\\nRMSE dev: {rmse_dev:.3f}\\nRMSE test: {rmse_test:.3f}')"
   ]
  },
  {
   "cell_type": "markdown",
   "metadata": {},
   "source": [
    "## Visualize attenuation"
   ]
  },
  {
   "cell_type": "code",
   "execution_count": null,
   "metadata": {},
   "outputs": [],
   "source": [
    "fig = plt.figure(figsize=(15, 10))\n",
    "ax = fig.add_subplot(111)\n",
    "cb = calibration.distance_depth_correction(x_ref=x_ref, g=g, ax=ax)\n",
    "fig.colorbar(cb)"
   ]
  },
  {
   "cell_type": "markdown",
   "metadata": {},
   "source": [
    "## Remove outliers\n",
    "In addition recalculate means and residuals"
   ]
  },
  {
   "cell_type": "code",
   "execution_count": null,
   "metadata": {},
   "outputs": [],
   "source": [
    "features = calibration.remove_outliers(data=features, metric=f'PRED_{metric}')\n",
    "calibration.calc_means(data=features, metric=metric)"
   ]
  },
  {
   "cell_type": "markdown",
   "metadata": {},
   "source": [
    "## Train boosting trees\n",
    "Trains three overlapping boosting trees to get non-overfitted magnitude estimates for each measurment. The final values are available in the columns PRED_BOOST_{metric} for station estimates and MEAN_PRED_BOOST_{metric} for network estimates."
   ]
  },
  {
   "cell_type": "code",
   "execution_count": null,
   "metadata": {},
   "outputs": [],
   "source": [
    "data = data[~np.isnan(data[f'MEAN_PRED_{metric}'])]\n",
    "features = calibration.create_boosting_scale(data=data, metric=metric)"
   ]
  }
 ],
 "metadata": {
  "kernelspec": {
   "display_name": "Python 3",
   "language": "python",
   "name": "python3"
  },
  "language_info": {
   "codemirror_mode": {
    "name": "ipython",
    "version": 3
   },
   "file_extension": ".py",
   "mimetype": "text/x-python",
   "name": "python",
   "nbconvert_exporter": "python",
   "pygments_lexer": "ipython3",
   "version": "3.6.5"
  }
 },
 "nbformat": 4,
 "nbformat_minor": 2
}
